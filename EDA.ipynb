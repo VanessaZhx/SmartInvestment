{
 "cells": [
  {
   "cell_type": "code",
   "execution_count": 1,
   "id": "referenced-bidder",
   "metadata": {},
   "outputs": [],
   "source": [
    "import data_prep\n",
    "\n",
    "#basics\n",
    "import numpy as np\n",
    "import pandas as pd\n",
    "\n",
    "#viz\n",
    "import matplotlib.pyplot as plt\n",
    "import seaborn as sns \n",
    "import matplotlib.gridspec as gridspec \n",
    "import matplotlib.gridspec as gridspec \n",
    "\n"
   ]
  },
  {
   "cell_type": "markdown",
   "id": "faced-external",
   "metadata": {},
   "source": [
    "1. 导入数据，查看数据结构"
   ]
  },
  {
   "cell_type": "code",
   "execution_count": 2,
   "id": "spectacular-criminal",
   "metadata": {},
   "outputs": [],
   "source": [
    "from sklearn.manifold import TSNE\n",
    "from sklearn.cluster import KMeans"
   ]
  },
  {
   "cell_type": "code",
   "execution_count": 4,
   "id": "intellectual-oakland",
   "metadata": {},
   "outputs": [
    {
     "data": {
      "text/html": [
       "<div>\n",
       "<style scoped>\n",
       "    .dataframe tbody tr th:only-of-type {\n",
       "        vertical-align: middle;\n",
       "    }\n",
       "\n",
       "    .dataframe tbody tr th {\n",
       "        vertical-align: top;\n",
       "    }\n",
       "\n",
       "    .dataframe thead th {\n",
       "        text-align: right;\n",
       "    }\n",
       "</style>\n",
       "<table border=\"1\" class=\"dataframe\">\n",
       "  <thead>\n",
       "    <tr style=\"text-align: right;\">\n",
       "      <th></th>\n",
       "      <th>fund_code</th>\n",
       "      <th>A</th>\n",
       "      <th>B</th>\n",
       "      <th>C</th>\n",
       "      <th>D</th>\n",
       "      <th>E</th>\n",
       "      <th>F</th>\n",
       "      <th>G</th>\n",
       "      <th>H</th>\n",
       "      <th>I</th>\n",
       "      <th>...</th>\n",
       "      <th>K</th>\n",
       "      <th>L</th>\n",
       "      <th>M</th>\n",
       "      <th>N</th>\n",
       "      <th>O</th>\n",
       "      <th>P</th>\n",
       "      <th>Q</th>\n",
       "      <th>R</th>\n",
       "      <th>S</th>\n",
       "      <th>X</th>\n",
       "    </tr>\n",
       "  </thead>\n",
       "  <tbody>\n",
       "    <tr>\n",
       "      <th>0</th>\n",
       "      <td>309</td>\n",
       "      <td>0.00</td>\n",
       "      <td>0.00</td>\n",
       "      <td>36.64</td>\n",
       "      <td>0.00</td>\n",
       "      <td>0.00</td>\n",
       "      <td>0.01</td>\n",
       "      <td>5.68</td>\n",
       "      <td>0.0</td>\n",
       "      <td>14.94</td>\n",
       "      <td>...</td>\n",
       "      <td>0.00</td>\n",
       "      <td>0.00</td>\n",
       "      <td>6.75</td>\n",
       "      <td>0.02</td>\n",
       "      <td>0.0</td>\n",
       "      <td>0.00</td>\n",
       "      <td>0.00</td>\n",
       "      <td>0.00</td>\n",
       "      <td>0.0</td>\n",
       "      <td>0.0</td>\n",
       "    </tr>\n",
       "    <tr>\n",
       "      <th>1</th>\n",
       "      <td>82</td>\n",
       "      <td>0.55</td>\n",
       "      <td>0.92</td>\n",
       "      <td>51.10</td>\n",
       "      <td>1.28</td>\n",
       "      <td>0.24</td>\n",
       "      <td>0.69</td>\n",
       "      <td>2.32</td>\n",
       "      <td>0.0</td>\n",
       "      <td>6.08</td>\n",
       "      <td>...</td>\n",
       "      <td>2.65</td>\n",
       "      <td>1.07</td>\n",
       "      <td>0.91</td>\n",
       "      <td>0.58</td>\n",
       "      <td>0.0</td>\n",
       "      <td>0.53</td>\n",
       "      <td>1.51</td>\n",
       "      <td>0.56</td>\n",
       "      <td>0.0</td>\n",
       "      <td>0.0</td>\n",
       "    </tr>\n",
       "    <tr>\n",
       "      <th>2</th>\n",
       "      <td>326</td>\n",
       "      <td>2.08</td>\n",
       "      <td>0.54</td>\n",
       "      <td>55.59</td>\n",
       "      <td>0.00</td>\n",
       "      <td>0.00</td>\n",
       "      <td>6.25</td>\n",
       "      <td>3.13</td>\n",
       "      <td>0.0</td>\n",
       "      <td>6.50</td>\n",
       "      <td>...</td>\n",
       "      <td>4.51</td>\n",
       "      <td>2.96</td>\n",
       "      <td>2.14</td>\n",
       "      <td>1.51</td>\n",
       "      <td>0.0</td>\n",
       "      <td>0.00</td>\n",
       "      <td>0.00</td>\n",
       "      <td>0.00</td>\n",
       "      <td>0.0</td>\n",
       "      <td>0.0</td>\n",
       "    </tr>\n",
       "    <tr>\n",
       "      <th>3</th>\n",
       "      <td>409</td>\n",
       "      <td>0.00</td>\n",
       "      <td>0.00</td>\n",
       "      <td>91.19</td>\n",
       "      <td>0.00</td>\n",
       "      <td>0.00</td>\n",
       "      <td>0.00</td>\n",
       "      <td>0.00</td>\n",
       "      <td>0.0</td>\n",
       "      <td>1.54</td>\n",
       "      <td>...</td>\n",
       "      <td>0.00</td>\n",
       "      <td>0.61</td>\n",
       "      <td>0.03</td>\n",
       "      <td>0.01</td>\n",
       "      <td>0.0</td>\n",
       "      <td>0.00</td>\n",
       "      <td>0.00</td>\n",
       "      <td>0.00</td>\n",
       "      <td>0.0</td>\n",
       "      <td>0.0</td>\n",
       "    </tr>\n",
       "    <tr>\n",
       "      <th>4</th>\n",
       "      <td>411</td>\n",
       "      <td>0.27</td>\n",
       "      <td>2.34</td>\n",
       "      <td>49.69</td>\n",
       "      <td>2.49</td>\n",
       "      <td>2.05</td>\n",
       "      <td>0.35</td>\n",
       "      <td>0.24</td>\n",
       "      <td>0.0</td>\n",
       "      <td>1.05</td>\n",
       "      <td>...</td>\n",
       "      <td>1.39</td>\n",
       "      <td>2.61</td>\n",
       "      <td>1.53</td>\n",
       "      <td>0.00</td>\n",
       "      <td>0.0</td>\n",
       "      <td>0.00</td>\n",
       "      <td>2.17</td>\n",
       "      <td>0.00</td>\n",
       "      <td>0.0</td>\n",
       "      <td>0.0</td>\n",
       "    </tr>\n",
       "  </tbody>\n",
       "</table>\n",
       "<p>5 rows × 21 columns</p>\n",
       "</div>"
      ],
      "text/plain": [
       "   fund_code     A     B      C     D     E     F     G    H      I  ...  \\\n",
       "0        309  0.00  0.00  36.64  0.00  0.00  0.01  5.68  0.0  14.94  ...   \n",
       "1         82  0.55  0.92  51.10  1.28  0.24  0.69  2.32  0.0   6.08  ...   \n",
       "2        326  2.08  0.54  55.59  0.00  0.00  6.25  3.13  0.0   6.50  ...   \n",
       "3        409  0.00  0.00  91.19  0.00  0.00  0.00  0.00  0.0   1.54  ...   \n",
       "4        411  0.27  2.34  49.69  2.49  2.05  0.35  0.24  0.0   1.05  ...   \n",
       "\n",
       "      K     L     M     N    O     P     Q     R    S    X  \n",
       "0  0.00  0.00  6.75  0.02  0.0  0.00  0.00  0.00  0.0  0.0  \n",
       "1  2.65  1.07  0.91  0.58  0.0  0.53  1.51  0.56  0.0  0.0  \n",
       "2  4.51  2.96  2.14  1.51  0.0  0.00  0.00  0.00  0.0  0.0  \n",
       "3  0.00  0.61  0.03  0.01  0.0  0.00  0.00  0.00  0.0  0.0  \n",
       "4  1.39  2.61  1.53  0.00  0.0  0.00  2.17  0.00  0.0  0.0  \n",
       "\n",
       "[5 rows x 21 columns]"
      ]
     },
     "execution_count": 4,
     "metadata": {},
     "output_type": "execute_result"
    }
   ],
   "source": [
    "df = data_prep.get_fund_data('fund_map_percentage.csv')\n",
    "df.head()"
   ]
  },
  {
   "cell_type": "markdown",
   "id": "referenced-superior",
   "metadata": {},
   "source": [
    "2. 查看每类数据分布"
   ]
  },
  {
   "cell_type": "code",
   "execution_count": 5,
   "id": "bound-found",
   "metadata": {},
   "outputs": [
    {
     "data": {
      "image/png": "[encoded data removed]",
      "text/plain": [
       "<Figure size 576x288 with 1 Axes>"
      ]
     },
     "metadata": {
      "needs_background": "light"
     },
     "output_type": "display_data"
    }
   ],
   "source": [
    "# 排除基金标号列\n",
    "df1 = df.iloc[:, 1:]\n",
    "# df_sum = df1.apply(sum, axis=0)\n",
    "# df_sum\n",
    "\n",
    "#\n",
    "plt.figure(figsize=(8,4))\n",
    "ax= sns.barplot(data=df1)\n",
    "plt.title(\"样本基金行业股本分类\")\n",
    "plt.ylabel('总股本数（万股）')\n",
    "plt.xlabel('行业标号')\n",
    "plt.show()"
   ]
  },
  {
   "cell_type": "markdown",
   "id": "nervous-snowboard",
   "metadata": {},
   "source": [
    "1. 查看数据结构"
   ]
  },
  {
   "cell_type": "code",
   "execution_count": 6,
   "id": "confirmed-builder",
   "metadata": {},
   "outputs": [
    {
     "data": {
      "image/png": "[encoded data removed]",
      "text/plain": [
       "<Figure size 432x288 with 1 Axes>"
      ]
     },
     "metadata": {
      "needs_background": "light"
     },
     "output_type": "display_data"
    },
    {
     "data": {
      "text/html": [
       "<div>\n",
       "<style scoped>\n",
       "    .dataframe tbody tr th:only-of-type {\n",
       "        vertical-align: middle;\n",
       "    }\n",
       "\n",
       "    .dataframe tbody tr th {\n",
       "        vertical-align: top;\n",
       "    }\n",
       "\n",
       "    .dataframe thead th {\n",
       "        text-align: right;\n",
       "    }\n",
       "</style>\n",
       "<table border=\"1\" class=\"dataframe\">\n",
       "  <thead>\n",
       "    <tr style=\"text-align: right;\">\n",
       "      <th></th>\n",
       "      <th>0</th>\n",
       "      <th>1</th>\n",
       "    </tr>\n",
       "  </thead>\n",
       "  <tbody>\n",
       "    <tr>\n",
       "      <th>0</th>\n",
       "      <td>1.842401</td>\n",
       "      <td>-18.227190</td>\n",
       "    </tr>\n",
       "    <tr>\n",
       "      <th>1</th>\n",
       "      <td>-0.241456</td>\n",
       "      <td>-12.814519</td>\n",
       "    </tr>\n",
       "    <tr>\n",
       "      <th>2</th>\n",
       "      <td>0.589922</td>\n",
       "      <td>-0.161551</td>\n",
       "    </tr>\n",
       "    <tr>\n",
       "      <th>3</th>\n",
       "      <td>-25.827156</td>\n",
       "      <td>12.507856</td>\n",
       "    </tr>\n",
       "    <tr>\n",
       "      <th>4</th>\n",
       "      <td>-0.184273</td>\n",
       "      <td>-15.785040</td>\n",
       "    </tr>\n",
       "    <tr>\n",
       "      <th>...</th>\n",
       "      <td>...</td>\n",
       "      <td>...</td>\n",
       "    </tr>\n",
       "    <tr>\n",
       "      <th>483</th>\n",
       "      <td>-21.326601</td>\n",
       "      <td>10.786511</td>\n",
       "    </tr>\n",
       "    <tr>\n",
       "      <th>484</th>\n",
       "      <td>-0.209936</td>\n",
       "      <td>-13.942863</td>\n",
       "    </tr>\n",
       "    <tr>\n",
       "      <th>485</th>\n",
       "      <td>-0.757142</td>\n",
       "      <td>-12.097940</td>\n",
       "    </tr>\n",
       "    <tr>\n",
       "      <th>486</th>\n",
       "      <td>-13.363256</td>\n",
       "      <td>2.433559</td>\n",
       "    </tr>\n",
       "    <tr>\n",
       "      <th>487</th>\n",
       "      <td>-13.363254</td>\n",
       "      <td>2.433558</td>\n",
       "    </tr>\n",
       "  </tbody>\n",
       "</table>\n",
       "<p>488 rows × 2 columns</p>\n",
       "</div>"
      ],
      "text/plain": [
       "             0          1\n",
       "0     1.842401 -18.227190\n",
       "1    -0.241456 -12.814519\n",
       "2     0.589922  -0.161551\n",
       "3   -25.827156  12.507856\n",
       "4    -0.184273 -15.785040\n",
       "..         ...        ...\n",
       "483 -21.326601  10.786511\n",
       "484  -0.209936 -13.942863\n",
       "485  -0.757142 -12.097940\n",
       "486 -13.363256   2.433559\n",
       "487 -13.363254   2.433558\n",
       "\n",
       "[488 rows x 2 columns]"
      ]
     },
     "execution_count": 6,
     "metadata": {},
     "output_type": "execute_result"
    }
   ],
   "source": [
    "# tsne=TSNE(n_components=3)\n",
    "# tsne.fit_transform(df1)  #进行数据降维,降成两维\n",
    "# tsne=pd.DataFrame(tsne.embedding_,index=df1.index) #转换数据格式\n",
    "# from mpl_toolkits.mplot3d import Axes3D\n",
    "# fig = plt.figure()\n",
    "# ax = Axes3D(fig)\n",
    "# ax.scatter(tsne[0],tsne[1],tsne[2])\n",
    "# plt.show()\n",
    "# tsne\n",
    "\n",
    "tsne=TSNE()\n",
    "tsne.fit_transform(df1)  #进行数据降维,降成两维\n",
    "tsne=pd.DataFrame(tsne.embedding_,index=df1.index) #转换数据格式\n",
    "fig = plt.plot(tsne[0],tsne[1],'.')\n",
    "plt.show()\n",
    "tsne"
   ]
  },
  {
   "cell_type": "code",
   "execution_count": 7,
   "id": "detected-compatibility",
   "metadata": {},
   "outputs": [
    {
     "name": "stderr",
     "output_type": "stream",
     "text": [
      "F:\\anaconda3\\lib\\site-packages\\sklearn\\cluster\\_kmeans.py:881: UserWarning: KMeans is known to have a memory leak on Windows with MKL, when there are less chunks than available threads. You can avoid it by setting the environment variable OMP_NUM_THREADS=2.\n",
      "  warnings.warn(\n"
     ]
    },
    {
     "data": {
      "image/png": "[encoded data removed]",
      "text/plain": [
       "<Figure size 432x288 with 1 Axes>"
      ]
     },
     "metadata": {
      "needs_background": "light"
     },
     "output_type": "display_data"
    }
   ],
   "source": [
    "sse = {}\n",
    "for k in range(1,15):\n",
    "    kmeans = KMeans(n_clusters=k, max_iter=1000)\n",
    "    kmeans.fit(df1)\n",
    "    sse[k] = kmeans.inertia_\n",
    "plt.figure()\n",
    "plt.plot(list(sse.keys()), list(sse.values()),'.-')\n",
    "plt.xlabel(\"聚类簇数\")\n",
    "plt.ylabel(\"SSE\")\n",
    "plt.show()"
   ]
  },
  {
   "cell_type": "code",
   "execution_count": 8,
   "id": "greatest-internet",
   "metadata": {},
   "outputs": [],
   "source": [
    "# k means using 5 clusters and k-means++ initialization\n",
    "kmeans = KMeans(n_clusters = 6, init='k-means++')\n",
    "kmeans.fit(df1)\n",
    "pred = kmeans.predict(df1)"
   ]
  },
  {
   "cell_type": "code",
   "execution_count": 9,
   "id": "representative-anger",
   "metadata": {},
   "outputs": [
    {
     "data": {
      "text/plain": [
       "4    161\n",
       "0    155\n",
       "2     73\n",
       "1     58\n",
       "3     35\n",
       "5      6\n",
       "Name: cluster, dtype: int64"
      ]
     },
     "execution_count": 9,
     "metadata": {},
     "output_type": "execute_result"
    }
   ],
   "source": [
    "frame = pd.DataFrame(tsne)\n",
    "frame['cluster'] = pred\n",
    "frame['cluster'].value_counts()"
   ]
  },
  {
   "cell_type": "code",
   "execution_count": 10,
   "id": "polyphonic-pencil",
   "metadata": {},
   "outputs": [
    {
     "ename": "AttributeError",
     "evalue": "'AxesSubplot' object has no attribute 'view_init'",
     "output_type": "error",
     "traceback": [
      "\u001b[1;31m---------------------------------------------------------------------------\u001b[0m",
      "\u001b[1;31mAttributeError\u001b[0m                            Traceback (most recent call last)",
      "\u001b[1;32m<ipython-input-10-d93df7c67cb5>\u001b[0m in \u001b[0;36m<module>\u001b[1;34m\u001b[0m\n\u001b[0;32m     35\u001b[0m \u001b[1;31m# plt.plot(d[0],d[1],'tan.')\u001b[0m\u001b[1;33m\u001b[0m\u001b[1;33m\u001b[0m\u001b[1;33m\u001b[0m\u001b[0m\n\u001b[0;32m     36\u001b[0m \u001b[1;33m\u001b[0m\u001b[0m\n\u001b[1;32m---> 37\u001b[1;33m \u001b[0max\u001b[0m\u001b[1;33m.\u001b[0m\u001b[0mview_init\u001b[0m\u001b[1;33m(\u001b[0m\u001b[1;36m90\u001b[0m\u001b[1;33m,\u001b[0m \u001b[1;33m-\u001b[0m\u001b[1;36m150\u001b[0m\u001b[1;33m)\u001b[0m\u001b[1;33m\u001b[0m\u001b[1;33m\u001b[0m\u001b[0m\n\u001b[0m\u001b[0;32m     38\u001b[0m \u001b[0mplt\u001b[0m\u001b[1;33m.\u001b[0m\u001b[0mshow\u001b[0m\u001b[1;33m(\u001b[0m\u001b[1;33m)\u001b[0m\u001b[1;33m\u001b[0m\u001b[1;33m\u001b[0m\u001b[0m\n",
      "\u001b[1;31mAttributeError\u001b[0m: 'AxesSubplot' object has no attribute 'view_init'"
     ]
    },
    {
     "data": {
      "image/png": "[encoded data removed]",
      "text/plain": [
       "<Figure size 432x288 with 1 Axes>"
      ]
     },
     "metadata": {
      "needs_background": "light"
     },
     "output_type": "display_data"
    }
   ],
   "source": [
    "# fig = plt.figure()\n",
    "# ax = Axes3D(fig)\n",
    "# d=frame.loc[frame.cluster==0,:]\n",
    "# ax.scatter(d[0],d[1],d[2],'r.')\n",
    "# d=frame.loc[frame.cluster==1,:]\n",
    "# ax.scatter(d[0],d[1],d[2],'b.')\n",
    "# d=frame.loc[frame.cluster==2,:]\n",
    "# ax.scatter(d[0],d[1],d[2],'g.')\n",
    "# d=frame.loc[frame.cluster==3,:]\n",
    "# ax.scatter(d[0],d[1],d[2],'y.')\n",
    "# d=frame.loc[frame.cluster==4,:]\n",
    "# ax.scatter(d[0],d[1],d[2],'c.')\n",
    "# d=frame.loc[frame.cluster==5,:]\n",
    "# ax.scatter(d[0],d[1],d[2],'m.')\n",
    "# # d=tsne.loc[frame.cluster==6,:]\n",
    "# # plt.plot(d[0],d[1],'tan.')\n",
    "\n",
    "# ax.view_init(90, -150)\n",
    "# plt.show()\n",
    "\n",
    "fig = plt.figure()\n",
    "d=frame.loc[frame.cluster==0,:]\n",
    "plt.plot(d[0],d[1],'r.')\n",
    "d=frame.loc[frame.cluster==1,:]\n",
    "plt.plot(d[0],d[1],'b.')\n",
    "d=frame.loc[frame.cluster==2,:]\n",
    "plt.plot(d[0],d[1],'g.')\n",
    "d=frame.loc[frame.cluster==3,:]\n",
    "plt.plot(d[0],d[1],'y.')\n",
    "d=frame.loc[frame.cluster==4,:]\n",
    "plt.plot(d[0],d[1],'c.')\n",
    "d=frame.loc[frame.cluster==5,:]\n",
    "plt.plot(d[0],d[1],'m.')\n",
    "# d=tsne.loc[frame.cluster==6,:]\n",
    "# plt.plot(d[0],d[1],'tan.')\n",
    "\n",
    "# ax.view_init(90, -150)\n",
    "plt.show()"
   ]
  },
  {
   "cell_type": "code",
   "execution_count": null,
   "id": "worse-arrival",
   "metadata": {},
   "outputs": [],
   "source": []
  }
 ],
 "metadata": {
  "kernelspec": {
   "display_name": "Python 3",
   "language": "python",
   "name": "python3"
  },
  "language_info": {
   "codemirror_mode": {
    "name": "ipython",
    "version": 3
   },
   "file_extension": ".py",
   "mimetype": "text/x-python",
   "name": "python",
   "nbconvert_exporter": "python",
   "pygments_lexer": "ipython3",
   "version": "3.8.8"
  }
 },
 "nbformat": 4,
 "nbformat_minor": 5
}
